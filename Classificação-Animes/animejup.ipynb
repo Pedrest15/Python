{
 "cells": [
  {
   "cell_type": "markdown",
   "metadata": {},
   "source": [
    "# Importando bibliotecas usuais para trabalhar com dados"
   ]
  },
  {
   "cell_type": "code",
   "execution_count": 2,
   "metadata": {},
   "outputs": [],
   "source": [
    "import pandas as pd\n",
    "from time import sleep"
   ]
  },
  {
   "cell_type": "markdown",
   "metadata": {},
   "source": [
    "# Lendo o arquivo CSV"
   ]
  },
  {
   "cell_type": "code",
   "execution_count": 3,
   "metadata": {},
   "outputs": [
    {
     "data": {
      "text/html": [
       "<div>\n",
       "<style scoped>\n",
       "    .dataframe tbody tr th:only-of-type {\n",
       "        vertical-align: middle;\n",
       "    }\n",
       "\n",
       "    .dataframe tbody tr th {\n",
       "        vertical-align: top;\n",
       "    }\n",
       "\n",
       "    .dataframe thead th {\n",
       "        text-align: right;\n",
       "    }\n",
       "</style>\n",
       "<table border=\"1\" class=\"dataframe\">\n",
       "  <thead>\n",
       "    <tr style=\"text-align: right;\">\n",
       "      <th></th>\n",
       "      <th>anime_id</th>\n",
       "      <th>name</th>\n",
       "      <th>genre</th>\n",
       "      <th>type</th>\n",
       "      <th>episodes</th>\n",
       "      <th>rating</th>\n",
       "      <th>members</th>\n",
       "    </tr>\n",
       "  </thead>\n",
       "  <tbody>\n",
       "    <tr>\n",
       "      <th>0</th>\n",
       "      <td>32281</td>\n",
       "      <td>Kimi no Na wa.</td>\n",
       "      <td>Drama, Romance, School, Supernatural</td>\n",
       "      <td>Movie</td>\n",
       "      <td>1</td>\n",
       "      <td>9.37</td>\n",
       "      <td>200630</td>\n",
       "    </tr>\n",
       "    <tr>\n",
       "      <th>1</th>\n",
       "      <td>5114</td>\n",
       "      <td>Fullmetal Alchemist: Brotherhood</td>\n",
       "      <td>Action, Adventure, Drama, Fantasy, Magic, Mili...</td>\n",
       "      <td>TV</td>\n",
       "      <td>64</td>\n",
       "      <td>9.26</td>\n",
       "      <td>793665</td>\n",
       "    </tr>\n",
       "    <tr>\n",
       "      <th>2</th>\n",
       "      <td>28977</td>\n",
       "      <td>Gintama°</td>\n",
       "      <td>Action, Comedy, Historical, Parody, Samurai, S...</td>\n",
       "      <td>TV</td>\n",
       "      <td>51</td>\n",
       "      <td>9.25</td>\n",
       "      <td>114262</td>\n",
       "    </tr>\n",
       "    <tr>\n",
       "      <th>3</th>\n",
       "      <td>9253</td>\n",
       "      <td>Steins;Gate</td>\n",
       "      <td>Sci-Fi, Thriller</td>\n",
       "      <td>TV</td>\n",
       "      <td>24</td>\n",
       "      <td>9.17</td>\n",
       "      <td>673572</td>\n",
       "    </tr>\n",
       "    <tr>\n",
       "      <th>4</th>\n",
       "      <td>9969</td>\n",
       "      <td>Gintama&amp;#039;</td>\n",
       "      <td>Action, Comedy, Historical, Parody, Samurai, S...</td>\n",
       "      <td>TV</td>\n",
       "      <td>51</td>\n",
       "      <td>9.16</td>\n",
       "      <td>151266</td>\n",
       "    </tr>\n",
       "  </tbody>\n",
       "</table>\n",
       "</div>"
      ],
      "text/plain": [
       "   anime_id                              name  \\\n",
       "0     32281                    Kimi no Na wa.   \n",
       "1      5114  Fullmetal Alchemist: Brotherhood   \n",
       "2     28977                          Gintama°   \n",
       "3      9253                       Steins;Gate   \n",
       "4      9969                     Gintama&#039;   \n",
       "\n",
       "                                               genre   type episodes  rating  \\\n",
       "0               Drama, Romance, School, Supernatural  Movie        1    9.37   \n",
       "1  Action, Adventure, Drama, Fantasy, Magic, Mili...     TV       64    9.26   \n",
       "2  Action, Comedy, Historical, Parody, Samurai, S...     TV       51    9.25   \n",
       "3                                   Sci-Fi, Thriller     TV       24    9.17   \n",
       "4  Action, Comedy, Historical, Parody, Samurai, S...     TV       51    9.16   \n",
       "\n",
       "   members  \n",
       "0   200630  \n",
       "1   793665  \n",
       "2   114262  \n",
       "3   673572  \n",
       "4   151266  "
      ]
     },
     "execution_count": 3,
     "metadata": {},
     "output_type": "execute_result"
    }
   ],
   "source": [
    "lista_animes = pd.read_csv('anime.csv')\n",
    "lista_animes.head()"
   ]
  },
  {
   "cell_type": "markdown",
   "metadata": {},
   "source": [
    "# Analisando maiores notas"
   ]
  },
  {
   "cell_type": "code",
   "execution_count": 12,
   "metadata": {},
   "outputs": [
    {
     "data": {
      "text/plain": [
       "<bound method IndexOpsMixin.value_counts of 0        9.37\n",
       "1        9.26\n",
       "2        9.25\n",
       "3        9.17\n",
       "4        9.16\n",
       "         ... \n",
       "12289    4.15\n",
       "12290    4.28\n",
       "12291    4.88\n",
       "12292    4.98\n",
       "12293    5.46\n",
       "Name: rating, Length: 12294, dtype: float64>"
      ]
     },
     "execution_count": 12,
     "metadata": {},
     "output_type": "execute_result"
    }
   ],
   "source": [
    "lista_animes.rating.value_counts"
   ]
  },
  {
   "cell_type": "markdown",
   "metadata": {},
   "source": [
    "# Buscando animes "
   ]
  },
  {
   "cell_type": "code",
   "execution_count": 3,
   "metadata": {},
   "outputs": [],
   "source": [
    "def busca_animes(lista_animes):\n",
    "    flag = 0\n",
    "    while 1:\n",
    "        str = input(\"Deseja procurar algum anime? Responda com 'sim' ou 'não' => \")\n",
    "        str = str.strip().capitalize().lower().replace('ã', 'a')\n",
    "        if str == 'nao':\n",
    "            return -1\n",
    "        if str != 'nao' and str != 'sim':\n",
    "            continue\n",
    "\n",
    "        nome_anime = input(\"\\nDigite o nome do anime que deseja buscar => \")\n",
    "        j = 0\n",
    "        for i in lista_animes.name:\n",
    "            if i.strip().capitalize().lower() == nome_anime.strip().capitalize().lower():\n",
    "                print(lista_animes.loc[j])\n",
    "                print(\"\\n\")\n",
    "                if flag == 0:\n",
    "                    aux = lista_animes.query(\"index == {}\".format(j))\n",
    "                    animes_buscados = aux\n",
    "                    flag = 1\n",
    "                elif flag == 1:\n",
    "                    aux = lista_animes.query(\"index == {}\".format(j))\n",
    "                    animes_buscados = pd.merge(animes_buscados, aux, how='outer')\n",
    "                break\n",
    "            else:\n",
    "                print(\"Desculpe, anime não encontrado.\\n\")  \n",
    "            j += 1  \n",
    "    return animes_buscados   "
   ]
  },
  {
   "cell_type": "markdown",
   "metadata": {},
   "source": [
    "# Tabela de animes famosos no ocidente"
   ]
  },
  {
   "cell_type": "code",
   "execution_count": 56,
   "metadata": {},
   "outputs": [
    {
     "data": {
      "text/html": [
       "<div>\n",
       "<style scoped>\n",
       "    .dataframe tbody tr th:only-of-type {\n",
       "        vertical-align: middle;\n",
       "    }\n",
       "\n",
       "    .dataframe tbody tr th {\n",
       "        vertical-align: top;\n",
       "    }\n",
       "\n",
       "    .dataframe thead th {\n",
       "        text-align: right;\n",
       "    }\n",
       "</style>\n",
       "<table border=\"1\" class=\"dataframe\">\n",
       "  <thead>\n",
       "    <tr style=\"text-align: right;\">\n",
       "      <th></th>\n",
       "      <th>anime_id</th>\n",
       "      <th>name</th>\n",
       "      <th>genre</th>\n",
       "      <th>type</th>\n",
       "      <th>episodes</th>\n",
       "      <th>rating</th>\n",
       "      <th>members</th>\n",
       "    </tr>\n",
       "  </thead>\n",
       "  <tbody>\n",
       "    <tr>\n",
       "      <th>0</th>\n",
       "      <td>223</td>\n",
       "      <td>Dragon Ball</td>\n",
       "      <td>Adventure, Comedy, Fantasy, Martial Arts, Shou...</td>\n",
       "      <td>TV</td>\n",
       "      <td>153</td>\n",
       "      <td>8.16</td>\n",
       "      <td>316102</td>\n",
       "    </tr>\n",
       "    <tr>\n",
       "      <th>1</th>\n",
       "      <td>813</td>\n",
       "      <td>Dragon Ball Z</td>\n",
       "      <td>Action, Adventure, Comedy, Fantasy, Martial Ar...</td>\n",
       "      <td>TV</td>\n",
       "      <td>291</td>\n",
       "      <td>8.32</td>\n",
       "      <td>375662</td>\n",
       "    </tr>\n",
       "    <tr>\n",
       "      <th>2</th>\n",
       "      <td>225</td>\n",
       "      <td>Dragon Ball GT</td>\n",
       "      <td>Action, Adventure, Comedy, Fantasy, Magic, Sci...</td>\n",
       "      <td>TV</td>\n",
       "      <td>64</td>\n",
       "      <td>6.72</td>\n",
       "      <td>226625</td>\n",
       "    </tr>\n",
       "    <tr>\n",
       "      <th>3</th>\n",
       "      <td>20</td>\n",
       "      <td>Naruto</td>\n",
       "      <td>Action, Comedy, Martial Arts, Shounen, Super P...</td>\n",
       "      <td>TV</td>\n",
       "      <td>220</td>\n",
       "      <td>7.81</td>\n",
       "      <td>683297</td>\n",
       "    </tr>\n",
       "    <tr>\n",
       "      <th>4</th>\n",
       "      <td>1254</td>\n",
       "      <td>Saint Seiya</td>\n",
       "      <td>Adventure, Fantasy, Sci-Fi, Shounen</td>\n",
       "      <td>TV</td>\n",
       "      <td>114</td>\n",
       "      <td>8.03</td>\n",
       "      <td>70559</td>\n",
       "    </tr>\n",
       "    <tr>\n",
       "      <th>5</th>\n",
       "      <td>5114</td>\n",
       "      <td>Fullmetal Alchemist: Brotherhood</td>\n",
       "      <td>Action, Adventure, Drama, Fantasy, Magic, Mili...</td>\n",
       "      <td>TV</td>\n",
       "      <td>64</td>\n",
       "      <td>9.26</td>\n",
       "      <td>793665</td>\n",
       "    </tr>\n",
       "  </tbody>\n",
       "</table>\n",
       "</div>"
      ],
      "text/plain": [
       "   anime_id                              name  \\\n",
       "0       223                       Dragon Ball   \n",
       "1       813                     Dragon Ball Z   \n",
       "2       225                    Dragon Ball GT   \n",
       "3        20                            Naruto   \n",
       "4      1254                       Saint Seiya   \n",
       "5      5114  Fullmetal Alchemist: Brotherhood   \n",
       "\n",
       "                                               genre type episodes  rating  \\\n",
       "0  Adventure, Comedy, Fantasy, Martial Arts, Shou...   TV      153    8.16   \n",
       "1  Action, Adventure, Comedy, Fantasy, Martial Ar...   TV      291    8.32   \n",
       "2  Action, Adventure, Comedy, Fantasy, Magic, Sci...   TV       64    6.72   \n",
       "3  Action, Comedy, Martial Arts, Shounen, Super P...   TV      220    7.81   \n",
       "4                Adventure, Fantasy, Sci-Fi, Shounen   TV      114    8.03   \n",
       "5  Action, Adventure, Drama, Fantasy, Magic, Mili...   TV       64    9.26   \n",
       "\n",
       "   members  \n",
       "0   316102  \n",
       "1   375662  \n",
       "2   226625  \n",
       "3   683297  \n",
       "4    70559  \n",
       "5   793665  "
      ]
     },
     "execution_count": 56,
     "metadata": {},
     "output_type": "execute_result"
    }
   ],
   "source": [
    "dragon_ball = lista_animes.query(\"name == 'Dragon Ball'\")\n",
    "dragon_ball_z = lista_animes.query(\"name == 'Dragon Ball Z'\")\n",
    "dragon_ball_gt = lista_animes.query(\"name == 'Dragon Ball GT'\")\n",
    "naruto = lista_animes.query(\"name == 'Naruto'\")\n",
    "cavaleiros = lista_animes.query(\"name == 'Saint Seiya'\")\n",
    "\n",
    "animes_ocidente = pd.merge(dragon_ball, dragon_ball_z, how='outer')\n",
    "animes_ocidente = pd.merge(animes_ocidente, dragon_ball_gt, how='outer')\n",
    "animes_ocidente = pd.merge(animes_ocidente, naruto, how='outer')\n",
    "animes_ocidente = pd.merge(animes_ocidente, cavaleiros, how='outer')\n",
    "\n",
    "animes_ocidente"
   ]
  },
  {
   "cell_type": "markdown",
   "metadata": {},
   "source": [
    "# Baixar tabela com os animes buscados"
   ]
  },
  {
   "cell_type": "code",
   "execution_count": null,
   "metadata": {},
   "outputs": [],
   "source": [
    "def tabela_busca(animes_buscados):\n",
    "    str = input(\"\\nDeseja baixar uma tabela com os animes buscados por você? \") \n",
    "    str = str.strip().capitalize().lower().replace('ã', 'a') \n",
    "    if animes_buscados == -1:\n",
    "        print(\"Desculpe, mas você não buscou nenhum anime.\\n\")\n",
    "        return\n",
    "    while 1:\n",
    "        if str == 'sim':\n",
    "            animes_buscados.to_csv('animes-buscados.csv', sep = ',')\n",
    "            print(\"...\")\n",
    "            sleep(2)\n",
    "            print('Pronto! Download realizado com sucesso\\n')\n",
    "            break\n",
    "        elif str == 'nao':\n",
    "            break\n",
    "        else:\n",
    "            print(\"Por favor, responda com 'sim' ou 'não'\\n\")"
   ]
  }
 ],
 "metadata": {
  "interpreter": {
   "hash": "916dbcbb3f70747c44a77c7bcd40155683ae19c65e1c03b4aa3499c5328201f1"
  },
  "kernelspec": {
   "display_name": "Python 3.8.10 64-bit",
   "language": "python",
   "name": "python3"
  },
  "language_info": {
   "codemirror_mode": {
    "name": "ipython",
    "version": 3
   },
   "file_extension": ".py",
   "mimetype": "text/x-python",
   "name": "python",
   "nbconvert_exporter": "python",
   "pygments_lexer": "ipython3",
   "version": "3.8.10"
  },
  "orig_nbformat": 4
 },
 "nbformat": 4,
 "nbformat_minor": 2
}

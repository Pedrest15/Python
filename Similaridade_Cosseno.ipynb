{
  "nbformat": 4,
  "nbformat_minor": 0,
  "metadata": {
    "colab": {
      "provenance": [],
      "authorship_tag": "ABX9TyNlXZz9iTB+TG7otAt2hdCg",
      "include_colab_link": true
    },
    "kernelspec": {
      "name": "python3",
      "display_name": "Python 3"
    },
    "language_info": {
      "name": "python"
    }
  },
  "cells": [
    {
      "cell_type": "markdown",
      "metadata": {
        "id": "view-in-github",
        "colab_type": "text"
      },
      "source": [
        "<a href=\"https://colab.research.google.com/github/Pedrest15/Python/blob/main/Similaridade_Cosseno.ipynb\" target=\"_parent\"><img src=\"https://colab.research.google.com/assets/colab-badge.svg\" alt=\"Open In Colab\"/></a>"
      ]
    },
    {
      "cell_type": "markdown",
      "source": [
        "#Fundamentação Teórica\n"
      ],
      "metadata": {
        "id": "FxNM38ZDy2ri"
      }
    },
    {
      "cell_type": "markdown",
      "source": [
        "Comparar a proximidade entre dois textos a partir da métrica de distância do cosseno. A expressão algébrica é:"
      ],
      "metadata": {
        "id": "Jpc1bWIXcapy"
      }
    },
    {
      "cell_type": "markdown",
      "source": [
        "$$d(x,y) = \\frac{x \\cdot y}{||x||_2\\space||y||_2} =  \\frac{∑_{i}^{n}x_i y_i}{\\sqrt{\\sum_{i}^{n}x_{i}^2}{\\sqrt{\\sum_{i}^{n}y_{i}^2}}} $$"
      ],
      "metadata": {
        "id": "TuwtaW2OconW"
      }
    },
    {
      "cell_type": "markdown",
      "source": [
        "Quanto mais próximo for o resultado de 1, mais similares são os textos. "
      ],
      "metadata": {
        "id": "fyqTh1XrhGsM"
      }
    },
    {
      "cell_type": "markdown",
      "source": [
        "Para textos, o cálculo é feito tomando como base as frequências com que cada palavra aparece em cada um. De forma resumida, o pré-processamento necessário para aplicar o algoritmo é:\n",
        "\n",
        "*   Criar um vetor com todas as palavras que estão presentes nos textos (sem necessidade de guardar repetições). \n",
        "*   Criar vetores com as frequências com que cada uma das palavras aparece em cada um dos textos.\n",
        "\n",
        "\n",
        "\n",
        "\n",
        "\n"
      ],
      "metadata": {
        "id": "e0s0ALGZzAPG"
      }
    },
    {
      "cell_type": "markdown",
      "source": [
        "Tomando por exemplo, tem-se as frases f1: \"Brasil, um país tropical\" e f2: \"Brasil, o país do futebol\". O vetor com todas as palavras é  \\\\\n",
        "`vt = ['Brasil', 'um', 'o', 'país', 'tropical', 'do', 'futebol']` \\\\\n",
        "Os vetores das frequências são \\\\\n",
        "`v1 = [1, 1, 0, 1, 1, 0, 0] ` \\\\\n",
        "e \\\\\n",
        "`v2 = [1, 0, 1, 1, 0, 1, 1]`"
      ],
      "metadata": {
        "id": "ArO836Yy2792"
      }
    },
    {
      "cell_type": "markdown",
      "source": [
        "#Experimento"
      ],
      "metadata": {
        "id": "awau_Ip_49BV"
      }
    },
    {
      "cell_type": "markdown",
      "source": [
        "##Carregando os textos"
      ],
      "metadata": {
        "id": "tTEHdqkU3X4k"
      }
    },
    {
      "cell_type": "code",
      "source": [
        "with open('MarPortuguês.txt',\"r\") as f:\n",
        "  mar_portugues = f.read()\n",
        "mar_portugues"
      ],
      "metadata": {
        "colab": {
          "base_uri": "https://localhost:8080/",
          "height": 70
        },
        "id": "ptj4Xv4di2Ei",
        "outputId": "6cd224b4-dd0f-4689-da6d-3a58c41136eb"
      },
      "execution_count": 15,
      "outputs": [
        {
          "output_type": "execute_result",
          "data": {
            "text/plain": [
              "'Mar Português\\n\\nÓ mar salgado, quanto do teu sal\\nSão lágrimas de Portugal!\\nPor te cruzarmos, quantas mães choraram,\\nQuantos filhos em vão rezaram!\\nQuantas noivas ficaram por casar\\nPara que fosses nosso, ó mar!\\n\\nValeu a pena? Tudo vale a pena\\nSe a alma nao é pequena.\\nQuem quer passar além do Bojador\\nTem que passar além da dor.\\nDeus ao mar o perigo e o abismo deu,\\nMas nele é que espelhou o céu.\\n'"
            ],
            "application/vnd.google.colaboratory.intrinsic+json": {
              "type": "string"
            }
          },
          "metadata": {},
          "execution_count": 15
        }
      ]
    },
    {
      "cell_type": "code",
      "source": [
        "with open(\"amar-drummond.txt\", \"r\") as f:\n",
        "  amar = f.read()\n",
        "amar"
      ],
      "metadata": {
        "colab": {
          "base_uri": "https://localhost:8080/",
          "height": 105
        },
        "id": "hycbl9pxqcUo",
        "outputId": "b0d80de6-a207-4df8-ce42-0a9479f363ef"
      },
      "execution_count": 14,
      "outputs": [
        {
          "output_type": "execute_result",
          "data": {
            "text/plain": [
              "'Amar\\n\\nQue pode uma criatura senao,\\nentre criaturas, amar?\\namar e esquecer,\\namar e malamar,\\namar, desamar, amar?\\nsempre e ate de olhos vidrados, amar?\\n\\nQue pode, pergunto, o ser amoroso,\\nsozinho, em rotacao universal, senao\\nrodar tambem, e amar?\\namar o que o mar traz à praia,\\no que ele sepulta, e o que, na brisa marinha,\\né sal, ou precisao de amor, ou simples ansia?\\n\\nAmar solenemente as palmas do deserto,\\no que é entrega ou adoracao expectante,\\ne amar o inospito, o aspero,\\num vaso sem flor, um chao de ferro,\\ne o peito inerte, e a rua vista em sonho, e uma ave de rapina.\\n\\nAmar a nossa falta mesma de amor, e na secura nossa\\namar a agua implicita, e o beijo tacito, e a sede infinita.\\n'"
            ],
            "application/vnd.google.colaboratory.intrinsic+json": {
              "type": "string"
            }
          },
          "metadata": {},
          "execution_count": 14
        }
      ]
    },
    {
      "cell_type": "code",
      "source": [
        "poemas = [mar_portugues, amar]"
      ],
      "metadata": {
        "id": "BEV3DH1nqiwM"
      },
      "execution_count": 17,
      "outputs": []
    },
    {
      "cell_type": "markdown",
      "source": [
        "##Fazendo contagem de frequências com CountVectorizer"
      ],
      "metadata": {
        "id": "ZH3ImXaS3dEt"
      }
    },
    {
      "cell_type": "markdown",
      "source": [
        "O CountVectorizer não faz tratamento especial para as palavras que mais aparecem, as *stopwords*. Estratégias boa para amostras pequenas, como poemas, mas para grandes textos é preciso um tratamento mais rebuscado."
      ],
      "metadata": {
        "id": "NThE3fda3roL"
      }
    },
    {
      "cell_type": "code",
      "execution_count": 41,
      "metadata": {
        "id": "q6K3ua9zfZj7"
      },
      "outputs": [],
      "source": [
        "from sklearn.feature_extraction.text import CountVectorizer\n",
        "from sklearn.metrics.pairwise import cosine_similarity\n",
        "\n",
        "import pandas as pd"
      ]
    },
    {
      "cell_type": "code",
      "source": [
        "count_vectorizer = CountVectorizer()\n",
        "vector_matrix = count_vectorizer.fit_transform(poemas)"
      ],
      "metadata": {
        "id": "kKXGZFbXq6ym"
      },
      "execution_count": 42,
      "outputs": []
    },
    {
      "cell_type": "markdown",
      "source": [
        "Tabela com as frequências das palavras em cada texto"
      ],
      "metadata": {
        "id": "gE0uyTmovRKg"
      }
    },
    {
      "cell_type": "code",
      "source": [
        "tokens = count_vectorizer.get_feature_names_out()\n",
        "tokens"
      ],
      "metadata": {
        "colab": {
          "base_uri": "https://localhost:8080/"
        },
        "id": "q2bElCenwHVA",
        "outputId": "5e477335-195d-4313-fe37-10ab5baafae3"
      },
      "execution_count": 43,
      "outputs": [
        {
          "output_type": "execute_result",
          "data": {
            "text/plain": [
              "array(['abismo', 'adoracao', 'agua', 'alma', 'além', 'amar', 'amor',\n",
              "       'amoroso', 'ansia', 'ao', 'as', 'aspero', 'ate', 'ave', 'beijo',\n",
              "       'bojador', 'brisa', 'casar', 'chao', 'choraram', 'criatura',\n",
              "       'criaturas', 'cruzarmos', 'céu', 'da', 'de', 'desamar', 'deserto',\n",
              "       'deu', 'deus', 'do', 'dor', 'ele', 'em', 'entre', 'entrega',\n",
              "       'espelhou', 'esquecer', 'expectante', 'falta', 'ferro', 'ficaram',\n",
              "       'filhos', 'flor', 'fosses', 'implicita', 'inerte', 'infinita',\n",
              "       'inospito', 'lágrimas', 'malamar', 'mar', 'marinha', 'mas',\n",
              "       'mesma', 'mães', 'na', 'nao', 'nele', 'noivas', 'nossa', 'nosso',\n",
              "       'olhos', 'ou', 'palmas', 'para', 'passar', 'peito', 'pena',\n",
              "       'pequena', 'pergunto', 'perigo', 'pode', 'por', 'portugal',\n",
              "       'português', 'praia', 'precisao', 'quantas', 'quanto', 'quantos',\n",
              "       'que', 'quem', 'quer', 'rapina', 'rezaram', 'rodar', 'rotacao',\n",
              "       'rua', 'sal', 'salgado', 'se', 'secura', 'sede', 'sem', 'sempre',\n",
              "       'senao', 'sepulta', 'ser', 'simples', 'solenemente', 'sonho',\n",
              "       'sozinho', 'são', 'tacito', 'tambem', 'te', 'tem', 'teu', 'traz',\n",
              "       'tudo', 'um', 'uma', 'universal', 'vale', 'valeu', 'vaso',\n",
              "       'vidrados', 'vista', 'vão'], dtype=object)"
            ]
          },
          "metadata": {},
          "execution_count": 43
        }
      ]
    },
    {
      "cell_type": "code",
      "source": [
        "vector_matrix.toarray()"
      ],
      "metadata": {
        "colab": {
          "base_uri": "https://localhost:8080/"
        },
        "id": "6i3We1E4vaCD",
        "outputId": "592c19e7-ae07-4ce9-d78d-60524da3a21c"
      },
      "execution_count": 44,
      "outputs": [
        {
          "output_type": "execute_result",
          "data": {
            "text/plain": [
              "array([[ 1,  0,  0,  1,  2,  0,  0,  0,  0,  1,  0,  0,  0,  0,  0,  1,\n",
              "         0,  1,  0,  1,  0,  0,  1,  1,  1,  1,  0,  0,  1,  1,  2,  1,\n",
              "         0,  1,  0,  0,  1,  0,  0,  0,  0,  1,  1,  0,  1,  0,  0,  0,\n",
              "         0,  1,  0,  4,  0,  1,  0,  1,  0,  1,  1,  1,  0,  1,  0,  0,\n",
              "         0,  1,  2,  0,  2,  1,  0,  1,  0,  2,  1,  1,  0,  0,  2,  1,\n",
              "         1,  3,  1,  1,  0,  1,  0,  0,  0,  1,  1,  1,  0,  0,  0,  0,\n",
              "         0,  0,  0,  0,  0,  0,  0,  1,  0,  0,  1,  1,  1,  0,  1,  0,\n",
              "         0,  0,  1,  1,  0,  0,  0,  1],\n",
              "       [ 0,  1,  1,  0,  0, 13,  2,  1,  1,  0,  1,  1,  1,  1,  1,  0,\n",
              "         1,  0,  1,  0,  1,  1,  0,  0,  0,  5,  1,  1,  0,  0,  1,  0,\n",
              "         1,  2,  1,  1,  0,  1,  1,  1,  1,  0,  0,  1,  0,  1,  1,  1,\n",
              "         1,  0,  1,  1,  1,  0,  1,  0,  2,  0,  0,  0,  2,  0,  1,  3,\n",
              "         1,  0,  0,  1,  0,  0,  1,  0,  2,  0,  0,  0,  1,  1,  0,  0,\n",
              "         0,  6,  0,  0,  1,  0,  1,  1,  1,  1,  0,  0,  1,  1,  1,  1,\n",
              "         2,  1,  1,  1,  1,  1,  1,  0,  1,  1,  0,  0,  0,  1,  0,  2,\n",
              "         2,  1,  0,  0,  1,  1,  1,  0]])"
            ]
          },
          "metadata": {},
          "execution_count": 44
        }
      ]
    },
    {
      "cell_type": "code",
      "source": [
        "df = pd.DataFrame(data=vector_matrix.toarray(), index=['Mar Português', 'Amar'], columns=tokens)\n",
        "df"
      ],
      "metadata": {
        "colab": {
          "base_uri": "https://localhost:8080/",
          "height": 185
        },
        "id": "o7CodwDlwi0w",
        "outputId": "e9c18d97-c602-49fa-c4eb-afdc13112563"
      },
      "execution_count": 45,
      "outputs": [
        {
          "output_type": "execute_result",
          "data": {
            "text/plain": [
              "               abismo  adoracao  agua  alma  além  amar  amor  amoroso  ansia  \\\n",
              "Mar Português       1         0     0     1     2     0     0        0      0   \n",
              "Amar                0         1     1     0     0    13     2        1      1   \n",
              "\n",
              "               ao  ...  tudo  um  uma  universal  vale  valeu  vaso  vidrados  \\\n",
              "Mar Português   1  ...     1   0    0          0     1      1     0         0   \n",
              "Amar            0  ...     0   2    2          1     0      0     1         1   \n",
              "\n",
              "               vista  vão  \n",
              "Mar Português      0    1  \n",
              "Amar               1    0  \n",
              "\n",
              "[2 rows x 120 columns]"
            ],
            "text/html": [
              "\n",
              "  <div id=\"df-e8057db3-148c-442b-89b8-64820d55c638\">\n",
              "    <div class=\"colab-df-container\">\n",
              "      <div>\n",
              "<style scoped>\n",
              "    .dataframe tbody tr th:only-of-type {\n",
              "        vertical-align: middle;\n",
              "    }\n",
              "\n",
              "    .dataframe tbody tr th {\n",
              "        vertical-align: top;\n",
              "    }\n",
              "\n",
              "    .dataframe thead th {\n",
              "        text-align: right;\n",
              "    }\n",
              "</style>\n",
              "<table border=\"1\" class=\"dataframe\">\n",
              "  <thead>\n",
              "    <tr style=\"text-align: right;\">\n",
              "      <th></th>\n",
              "      <th>abismo</th>\n",
              "      <th>adoracao</th>\n",
              "      <th>agua</th>\n",
              "      <th>alma</th>\n",
              "      <th>além</th>\n",
              "      <th>amar</th>\n",
              "      <th>amor</th>\n",
              "      <th>amoroso</th>\n",
              "      <th>ansia</th>\n",
              "      <th>ao</th>\n",
              "      <th>...</th>\n",
              "      <th>tudo</th>\n",
              "      <th>um</th>\n",
              "      <th>uma</th>\n",
              "      <th>universal</th>\n",
              "      <th>vale</th>\n",
              "      <th>valeu</th>\n",
              "      <th>vaso</th>\n",
              "      <th>vidrados</th>\n",
              "      <th>vista</th>\n",
              "      <th>vão</th>\n",
              "    </tr>\n",
              "  </thead>\n",
              "  <tbody>\n",
              "    <tr>\n",
              "      <th>Mar Português</th>\n",
              "      <td>1</td>\n",
              "      <td>0</td>\n",
              "      <td>0</td>\n",
              "      <td>1</td>\n",
              "      <td>2</td>\n",
              "      <td>0</td>\n",
              "      <td>0</td>\n",
              "      <td>0</td>\n",
              "      <td>0</td>\n",
              "      <td>1</td>\n",
              "      <td>...</td>\n",
              "      <td>1</td>\n",
              "      <td>0</td>\n",
              "      <td>0</td>\n",
              "      <td>0</td>\n",
              "      <td>1</td>\n",
              "      <td>1</td>\n",
              "      <td>0</td>\n",
              "      <td>0</td>\n",
              "      <td>0</td>\n",
              "      <td>1</td>\n",
              "    </tr>\n",
              "    <tr>\n",
              "      <th>Amar</th>\n",
              "      <td>0</td>\n",
              "      <td>1</td>\n",
              "      <td>1</td>\n",
              "      <td>0</td>\n",
              "      <td>0</td>\n",
              "      <td>13</td>\n",
              "      <td>2</td>\n",
              "      <td>1</td>\n",
              "      <td>1</td>\n",
              "      <td>0</td>\n",
              "      <td>...</td>\n",
              "      <td>0</td>\n",
              "      <td>2</td>\n",
              "      <td>2</td>\n",
              "      <td>1</td>\n",
              "      <td>0</td>\n",
              "      <td>0</td>\n",
              "      <td>1</td>\n",
              "      <td>1</td>\n",
              "      <td>1</td>\n",
              "      <td>0</td>\n",
              "    </tr>\n",
              "  </tbody>\n",
              "</table>\n",
              "<p>2 rows × 120 columns</p>\n",
              "</div>\n",
              "      <button class=\"colab-df-convert\" onclick=\"convertToInteractive('df-e8057db3-148c-442b-89b8-64820d55c638')\"\n",
              "              title=\"Convert this dataframe to an interactive table.\"\n",
              "              style=\"display:none;\">\n",
              "        \n",
              "  <svg xmlns=\"http://www.w3.org/2000/svg\" height=\"24px\"viewBox=\"0 0 24 24\"\n",
              "       width=\"24px\">\n",
              "    <path d=\"M0 0h24v24H0V0z\" fill=\"none\"/>\n",
              "    <path d=\"M18.56 5.44l.94 2.06.94-2.06 2.06-.94-2.06-.94-.94-2.06-.94 2.06-2.06.94zm-11 1L8.5 8.5l.94-2.06 2.06-.94-2.06-.94L8.5 2.5l-.94 2.06-2.06.94zm10 10l.94 2.06.94-2.06 2.06-.94-2.06-.94-.94-2.06-.94 2.06-2.06.94z\"/><path d=\"M17.41 7.96l-1.37-1.37c-.4-.4-.92-.59-1.43-.59-.52 0-1.04.2-1.43.59L10.3 9.45l-7.72 7.72c-.78.78-.78 2.05 0 2.83L4 21.41c.39.39.9.59 1.41.59.51 0 1.02-.2 1.41-.59l7.78-7.78 2.81-2.81c.8-.78.8-2.07 0-2.86zM5.41 20L4 18.59l7.72-7.72 1.47 1.35L5.41 20z\"/>\n",
              "  </svg>\n",
              "      </button>\n",
              "      \n",
              "  <style>\n",
              "    .colab-df-container {\n",
              "      display:flex;\n",
              "      flex-wrap:wrap;\n",
              "      gap: 12px;\n",
              "    }\n",
              "\n",
              "    .colab-df-convert {\n",
              "      background-color: #E8F0FE;\n",
              "      border: none;\n",
              "      border-radius: 50%;\n",
              "      cursor: pointer;\n",
              "      display: none;\n",
              "      fill: #1967D2;\n",
              "      height: 32px;\n",
              "      padding: 0 0 0 0;\n",
              "      width: 32px;\n",
              "    }\n",
              "\n",
              "    .colab-df-convert:hover {\n",
              "      background-color: #E2EBFA;\n",
              "      box-shadow: 0px 1px 2px rgba(60, 64, 67, 0.3), 0px 1px 3px 1px rgba(60, 64, 67, 0.15);\n",
              "      fill: #174EA6;\n",
              "    }\n",
              "\n",
              "    [theme=dark] .colab-df-convert {\n",
              "      background-color: #3B4455;\n",
              "      fill: #D2E3FC;\n",
              "    }\n",
              "\n",
              "    [theme=dark] .colab-df-convert:hover {\n",
              "      background-color: #434B5C;\n",
              "      box-shadow: 0px 1px 3px 1px rgba(0, 0, 0, 0.15);\n",
              "      filter: drop-shadow(0px 1px 2px rgba(0, 0, 0, 0.3));\n",
              "      fill: #FFFFFF;\n",
              "    }\n",
              "  </style>\n",
              "\n",
              "      <script>\n",
              "        const buttonEl =\n",
              "          document.querySelector('#df-e8057db3-148c-442b-89b8-64820d55c638 button.colab-df-convert');\n",
              "        buttonEl.style.display =\n",
              "          google.colab.kernel.accessAllowed ? 'block' : 'none';\n",
              "\n",
              "        async function convertToInteractive(key) {\n",
              "          const element = document.querySelector('#df-e8057db3-148c-442b-89b8-64820d55c638');\n",
              "          const dataTable =\n",
              "            await google.colab.kernel.invokeFunction('convertToInteractive',\n",
              "                                                     [key], {});\n",
              "          if (!dataTable) return;\n",
              "\n",
              "          const docLinkHtml = 'Like what you see? Visit the ' +\n",
              "            '<a target=\"_blank\" href=https://colab.research.google.com/notebooks/data_table.ipynb>data table notebook</a>'\n",
              "            + ' to learn more about interactive tables.';\n",
              "          element.innerHTML = '';\n",
              "          dataTable['output_type'] = 'display_data';\n",
              "          await google.colab.output.renderOutput(dataTable, element);\n",
              "          const docLink = document.createElement('div');\n",
              "          docLink.innerHTML = docLinkHtml;\n",
              "          element.appendChild(docLink);\n",
              "        }\n",
              "      </script>\n",
              "    </div>\n",
              "  </div>\n",
              "  "
            ]
          },
          "metadata": {},
          "execution_count": 45
        }
      ]
    },
    {
      "cell_type": "code",
      "source": [
        "df = pd.DataFrame(data=cosine_similarity(vector_matrix), index=['Mar Português', 'Amar'], columns=['Mar Português', 'Amar'])\n",
        "df"
      ],
      "metadata": {
        "colab": {
          "base_uri": "https://localhost:8080/",
          "height": 112
        },
        "id": "aGhWx1ghxMaC",
        "outputId": "f6c054f5-ecae-464d-df94-4a4e6c5dd3e7"
      },
      "execution_count": 46,
      "outputs": [
        {
          "output_type": "execute_result",
          "data": {
            "text/plain": [
              "               Mar Português      Amar\n",
              "Mar Português       1.000000  0.180457\n",
              "Amar                0.180457  1.000000"
            ],
            "text/html": [
              "\n",
              "  <div id=\"df-e03373de-21b2-4135-b91d-df8ec5d4b64c\">\n",
              "    <div class=\"colab-df-container\">\n",
              "      <div>\n",
              "<style scoped>\n",
              "    .dataframe tbody tr th:only-of-type {\n",
              "        vertical-align: middle;\n",
              "    }\n",
              "\n",
              "    .dataframe tbody tr th {\n",
              "        vertical-align: top;\n",
              "    }\n",
              "\n",
              "    .dataframe thead th {\n",
              "        text-align: right;\n",
              "    }\n",
              "</style>\n",
              "<table border=\"1\" class=\"dataframe\">\n",
              "  <thead>\n",
              "    <tr style=\"text-align: right;\">\n",
              "      <th></th>\n",
              "      <th>Mar Português</th>\n",
              "      <th>Amar</th>\n",
              "    </tr>\n",
              "  </thead>\n",
              "  <tbody>\n",
              "    <tr>\n",
              "      <th>Mar Português</th>\n",
              "      <td>1.000000</td>\n",
              "      <td>0.180457</td>\n",
              "    </tr>\n",
              "    <tr>\n",
              "      <th>Amar</th>\n",
              "      <td>0.180457</td>\n",
              "      <td>1.000000</td>\n",
              "    </tr>\n",
              "  </tbody>\n",
              "</table>\n",
              "</div>\n",
              "      <button class=\"colab-df-convert\" onclick=\"convertToInteractive('df-e03373de-21b2-4135-b91d-df8ec5d4b64c')\"\n",
              "              title=\"Convert this dataframe to an interactive table.\"\n",
              "              style=\"display:none;\">\n",
              "        \n",
              "  <svg xmlns=\"http://www.w3.org/2000/svg\" height=\"24px\"viewBox=\"0 0 24 24\"\n",
              "       width=\"24px\">\n",
              "    <path d=\"M0 0h24v24H0V0z\" fill=\"none\"/>\n",
              "    <path d=\"M18.56 5.44l.94 2.06.94-2.06 2.06-.94-2.06-.94-.94-2.06-.94 2.06-2.06.94zm-11 1L8.5 8.5l.94-2.06 2.06-.94-2.06-.94L8.5 2.5l-.94 2.06-2.06.94zm10 10l.94 2.06.94-2.06 2.06-.94-2.06-.94-.94-2.06-.94 2.06-2.06.94z\"/><path d=\"M17.41 7.96l-1.37-1.37c-.4-.4-.92-.59-1.43-.59-.52 0-1.04.2-1.43.59L10.3 9.45l-7.72 7.72c-.78.78-.78 2.05 0 2.83L4 21.41c.39.39.9.59 1.41.59.51 0 1.02-.2 1.41-.59l7.78-7.78 2.81-2.81c.8-.78.8-2.07 0-2.86zM5.41 20L4 18.59l7.72-7.72 1.47 1.35L5.41 20z\"/>\n",
              "  </svg>\n",
              "      </button>\n",
              "      \n",
              "  <style>\n",
              "    .colab-df-container {\n",
              "      display:flex;\n",
              "      flex-wrap:wrap;\n",
              "      gap: 12px;\n",
              "    }\n",
              "\n",
              "    .colab-df-convert {\n",
              "      background-color: #E8F0FE;\n",
              "      border: none;\n",
              "      border-radius: 50%;\n",
              "      cursor: pointer;\n",
              "      display: none;\n",
              "      fill: #1967D2;\n",
              "      height: 32px;\n",
              "      padding: 0 0 0 0;\n",
              "      width: 32px;\n",
              "    }\n",
              "\n",
              "    .colab-df-convert:hover {\n",
              "      background-color: #E2EBFA;\n",
              "      box-shadow: 0px 1px 2px rgba(60, 64, 67, 0.3), 0px 1px 3px 1px rgba(60, 64, 67, 0.15);\n",
              "      fill: #174EA6;\n",
              "    }\n",
              "\n",
              "    [theme=dark] .colab-df-convert {\n",
              "      background-color: #3B4455;\n",
              "      fill: #D2E3FC;\n",
              "    }\n",
              "\n",
              "    [theme=dark] .colab-df-convert:hover {\n",
              "      background-color: #434B5C;\n",
              "      box-shadow: 0px 1px 3px 1px rgba(0, 0, 0, 0.15);\n",
              "      filter: drop-shadow(0px 1px 2px rgba(0, 0, 0, 0.3));\n",
              "      fill: #FFFFFF;\n",
              "    }\n",
              "  </style>\n",
              "\n",
              "      <script>\n",
              "        const buttonEl =\n",
              "          document.querySelector('#df-e03373de-21b2-4135-b91d-df8ec5d4b64c button.colab-df-convert');\n",
              "        buttonEl.style.display =\n",
              "          google.colab.kernel.accessAllowed ? 'block' : 'none';\n",
              "\n",
              "        async function convertToInteractive(key) {\n",
              "          const element = document.querySelector('#df-e03373de-21b2-4135-b91d-df8ec5d4b64c');\n",
              "          const dataTable =\n",
              "            await google.colab.kernel.invokeFunction('convertToInteractive',\n",
              "                                                     [key], {});\n",
              "          if (!dataTable) return;\n",
              "\n",
              "          const docLinkHtml = 'Like what you see? Visit the ' +\n",
              "            '<a target=\"_blank\" href=https://colab.research.google.com/notebooks/data_table.ipynb>data table notebook</a>'\n",
              "            + ' to learn more about interactive tables.';\n",
              "          element.innerHTML = '';\n",
              "          dataTable['output_type'] = 'display_data';\n",
              "          await google.colab.output.renderOutput(dataTable, element);\n",
              "          const docLink = document.createElement('div');\n",
              "          docLink.innerHTML = docLinkHtml;\n",
              "          element.appendChild(docLink);\n",
              "        }\n",
              "      </script>\n",
              "    </div>\n",
              "  </div>\n",
              "  "
            ]
          },
          "metadata": {},
          "execution_count": 46
        }
      ]
    },
    {
      "cell_type": "markdown",
      "source": [
        "A similaridade entre os dois poemas é de 18%."
      ],
      "metadata": {
        "id": "_HCNsFS8yqso"
      }
    },
    {
      "cell_type": "markdown",
      "source": [
        "##Fazendo contagem de freqências com TfidfVectorizer"
      ],
      "metadata": {
        "id": "ov-Py6qn4_tI"
      }
    },
    {
      "cell_type": "code",
      "source": [
        "from sklearn.feature_extraction.text import TfidfVectorizer\n",
        "from sklearn.metrics.pairwise import cosine_similarity\n",
        "\n",
        "import pandas as pd"
      ],
      "metadata": {
        "id": "VbxslGnV5MUo"
      },
      "execution_count": 47,
      "outputs": []
    },
    {
      "cell_type": "code",
      "source": [
        "Tfidf_vect = TfidfVectorizer()\n",
        "vector_matrix = Tfidf_vect.fit_transform(poemas)\n",
        "\n",
        "tokens = Tfidf_vect.get_feature_names()\n",
        "df = pd.DataFrame(data=vector_matrix.toarray(), index=['Mar Português', 'Amar'], columns=tokens)\n",
        "df"
      ],
      "metadata": {
        "colab": {
          "base_uri": "https://localhost:8080/",
          "height": 258
        },
        "id": "COepdrmi5J7O",
        "outputId": "6fb4311b-cd5b-4464-f0cb-620cd66080fb"
      },
      "execution_count": 48,
      "outputs": [
        {
          "output_type": "stream",
          "name": "stderr",
          "text": [
            "/usr/local/lib/python3.7/dist-packages/sklearn/utils/deprecation.py:87: FutureWarning: Function get_feature_names is deprecated; get_feature_names is deprecated in 1.0 and will be removed in 1.2. Please use get_feature_names_out instead.\n",
            "  warnings.warn(msg, category=FutureWarning)\n"
          ]
        },
        {
          "output_type": "execute_result",
          "data": {
            "text/plain": [
              "                 abismo  adoracao      agua      alma      além      amar  \\\n",
              "Mar Português  0.112367  0.000000  0.000000  0.112367  0.224734  0.000000   \n",
              "Amar           0.000000  0.057984  0.057984  0.000000  0.000000  0.753798   \n",
              "\n",
              "                   amor   amoroso     ansia        ao  ...      tudo  \\\n",
              "Mar Português  0.000000  0.000000  0.000000  0.112367  ...  0.112367   \n",
              "Amar           0.115969  0.057984  0.057984  0.000000  ...  0.000000   \n",
              "\n",
              "                     um       uma  universal      vale     valeu      vaso  \\\n",
              "Mar Português  0.000000  0.000000   0.000000  0.112367  0.112367  0.000000   \n",
              "Amar           0.115969  0.115969   0.057984  0.000000  0.000000  0.057984   \n",
              "\n",
              "               vidrados     vista       vão  \n",
              "Mar Português  0.000000  0.000000  0.112367  \n",
              "Amar           0.057984  0.057984  0.000000  \n",
              "\n",
              "[2 rows x 120 columns]"
            ],
            "text/html": [
              "\n",
              "  <div id=\"df-5816438f-2856-4be5-8f4a-c5e704ef8479\">\n",
              "    <div class=\"colab-df-container\">\n",
              "      <div>\n",
              "<style scoped>\n",
              "    .dataframe tbody tr th:only-of-type {\n",
              "        vertical-align: middle;\n",
              "    }\n",
              "\n",
              "    .dataframe tbody tr th {\n",
              "        vertical-align: top;\n",
              "    }\n",
              "\n",
              "    .dataframe thead th {\n",
              "        text-align: right;\n",
              "    }\n",
              "</style>\n",
              "<table border=\"1\" class=\"dataframe\">\n",
              "  <thead>\n",
              "    <tr style=\"text-align: right;\">\n",
              "      <th></th>\n",
              "      <th>abismo</th>\n",
              "      <th>adoracao</th>\n",
              "      <th>agua</th>\n",
              "      <th>alma</th>\n",
              "      <th>além</th>\n",
              "      <th>amar</th>\n",
              "      <th>amor</th>\n",
              "      <th>amoroso</th>\n",
              "      <th>ansia</th>\n",
              "      <th>ao</th>\n",
              "      <th>...</th>\n",
              "      <th>tudo</th>\n",
              "      <th>um</th>\n",
              "      <th>uma</th>\n",
              "      <th>universal</th>\n",
              "      <th>vale</th>\n",
              "      <th>valeu</th>\n",
              "      <th>vaso</th>\n",
              "      <th>vidrados</th>\n",
              "      <th>vista</th>\n",
              "      <th>vão</th>\n",
              "    </tr>\n",
              "  </thead>\n",
              "  <tbody>\n",
              "    <tr>\n",
              "      <th>Mar Português</th>\n",
              "      <td>0.112367</td>\n",
              "      <td>0.000000</td>\n",
              "      <td>0.000000</td>\n",
              "      <td>0.112367</td>\n",
              "      <td>0.224734</td>\n",
              "      <td>0.000000</td>\n",
              "      <td>0.000000</td>\n",
              "      <td>0.000000</td>\n",
              "      <td>0.000000</td>\n",
              "      <td>0.112367</td>\n",
              "      <td>...</td>\n",
              "      <td>0.112367</td>\n",
              "      <td>0.000000</td>\n",
              "      <td>0.000000</td>\n",
              "      <td>0.000000</td>\n",
              "      <td>0.112367</td>\n",
              "      <td>0.112367</td>\n",
              "      <td>0.000000</td>\n",
              "      <td>0.000000</td>\n",
              "      <td>0.000000</td>\n",
              "      <td>0.112367</td>\n",
              "    </tr>\n",
              "    <tr>\n",
              "      <th>Amar</th>\n",
              "      <td>0.000000</td>\n",
              "      <td>0.057984</td>\n",
              "      <td>0.057984</td>\n",
              "      <td>0.000000</td>\n",
              "      <td>0.000000</td>\n",
              "      <td>0.753798</td>\n",
              "      <td>0.115969</td>\n",
              "      <td>0.057984</td>\n",
              "      <td>0.057984</td>\n",
              "      <td>0.000000</td>\n",
              "      <td>...</td>\n",
              "      <td>0.000000</td>\n",
              "      <td>0.115969</td>\n",
              "      <td>0.115969</td>\n",
              "      <td>0.057984</td>\n",
              "      <td>0.000000</td>\n",
              "      <td>0.000000</td>\n",
              "      <td>0.057984</td>\n",
              "      <td>0.057984</td>\n",
              "      <td>0.057984</td>\n",
              "      <td>0.000000</td>\n",
              "    </tr>\n",
              "  </tbody>\n",
              "</table>\n",
              "<p>2 rows × 120 columns</p>\n",
              "</div>\n",
              "      <button class=\"colab-df-convert\" onclick=\"convertToInteractive('df-5816438f-2856-4be5-8f4a-c5e704ef8479')\"\n",
              "              title=\"Convert this dataframe to an interactive table.\"\n",
              "              style=\"display:none;\">\n",
              "        \n",
              "  <svg xmlns=\"http://www.w3.org/2000/svg\" height=\"24px\"viewBox=\"0 0 24 24\"\n",
              "       width=\"24px\">\n",
              "    <path d=\"M0 0h24v24H0V0z\" fill=\"none\"/>\n",
              "    <path d=\"M18.56 5.44l.94 2.06.94-2.06 2.06-.94-2.06-.94-.94-2.06-.94 2.06-2.06.94zm-11 1L8.5 8.5l.94-2.06 2.06-.94-2.06-.94L8.5 2.5l-.94 2.06-2.06.94zm10 10l.94 2.06.94-2.06 2.06-.94-2.06-.94-.94-2.06-.94 2.06-2.06.94z\"/><path d=\"M17.41 7.96l-1.37-1.37c-.4-.4-.92-.59-1.43-.59-.52 0-1.04.2-1.43.59L10.3 9.45l-7.72 7.72c-.78.78-.78 2.05 0 2.83L4 21.41c.39.39.9.59 1.41.59.51 0 1.02-.2 1.41-.59l7.78-7.78 2.81-2.81c.8-.78.8-2.07 0-2.86zM5.41 20L4 18.59l7.72-7.72 1.47 1.35L5.41 20z\"/>\n",
              "  </svg>\n",
              "      </button>\n",
              "      \n",
              "  <style>\n",
              "    .colab-df-container {\n",
              "      display:flex;\n",
              "      flex-wrap:wrap;\n",
              "      gap: 12px;\n",
              "    }\n",
              "\n",
              "    .colab-df-convert {\n",
              "      background-color: #E8F0FE;\n",
              "      border: none;\n",
              "      border-radius: 50%;\n",
              "      cursor: pointer;\n",
              "      display: none;\n",
              "      fill: #1967D2;\n",
              "      height: 32px;\n",
              "      padding: 0 0 0 0;\n",
              "      width: 32px;\n",
              "    }\n",
              "\n",
              "    .colab-df-convert:hover {\n",
              "      background-color: #E2EBFA;\n",
              "      box-shadow: 0px 1px 2px rgba(60, 64, 67, 0.3), 0px 1px 3px 1px rgba(60, 64, 67, 0.15);\n",
              "      fill: #174EA6;\n",
              "    }\n",
              "\n",
              "    [theme=dark] .colab-df-convert {\n",
              "      background-color: #3B4455;\n",
              "      fill: #D2E3FC;\n",
              "    }\n",
              "\n",
              "    [theme=dark] .colab-df-convert:hover {\n",
              "      background-color: #434B5C;\n",
              "      box-shadow: 0px 1px 3px 1px rgba(0, 0, 0, 0.15);\n",
              "      filter: drop-shadow(0px 1px 2px rgba(0, 0, 0, 0.3));\n",
              "      fill: #FFFFFF;\n",
              "    }\n",
              "  </style>\n",
              "\n",
              "      <script>\n",
              "        const buttonEl =\n",
              "          document.querySelector('#df-5816438f-2856-4be5-8f4a-c5e704ef8479 button.colab-df-convert');\n",
              "        buttonEl.style.display =\n",
              "          google.colab.kernel.accessAllowed ? 'block' : 'none';\n",
              "\n",
              "        async function convertToInteractive(key) {\n",
              "          const element = document.querySelector('#df-5816438f-2856-4be5-8f4a-c5e704ef8479');\n",
              "          const dataTable =\n",
              "            await google.colab.kernel.invokeFunction('convertToInteractive',\n",
              "                                                     [key], {});\n",
              "          if (!dataTable) return;\n",
              "\n",
              "          const docLinkHtml = 'Like what you see? Visit the ' +\n",
              "            '<a target=\"_blank\" href=https://colab.research.google.com/notebooks/data_table.ipynb>data table notebook</a>'\n",
              "            + ' to learn more about interactive tables.';\n",
              "          element.innerHTML = '';\n",
              "          dataTable['output_type'] = 'display_data';\n",
              "          await google.colab.output.renderOutput(dataTable, element);\n",
              "          const docLink = document.createElement('div');\n",
              "          docLink.innerHTML = docLinkHtml;\n",
              "          element.appendChild(docLink);\n",
              "        }\n",
              "      </script>\n",
              "    </div>\n",
              "  </div>\n",
              "  "
            ]
          },
          "metadata": {},
          "execution_count": 48
        }
      ]
    },
    {
      "cell_type": "code",
      "source": [
        "df = pd.DataFrame(data=cosine_similarity(vector_matrix), index=['Mar Português', 'Amar'], columns=['Mar Português', 'Amar'])\n",
        "df"
      ],
      "metadata": {
        "colab": {
          "base_uri": "https://localhost:8080/",
          "height": 112
        },
        "id": "VgFEd0zX58bn",
        "outputId": "35fd2982-2a5c-498b-9aff-7b7b650a9ef3"
      },
      "execution_count": 49,
      "outputs": [
        {
          "output_type": "execute_result",
          "data": {
            "text/plain": [
              "               Mar Português     Amar\n",
              "Mar Português        1.00000  0.10555\n",
              "Amar                 0.10555  1.00000"
            ],
            "text/html": [
              "\n",
              "  <div id=\"df-cf753876-9f64-41ab-86d0-f6edeb75d59e\">\n",
              "    <div class=\"colab-df-container\">\n",
              "      <div>\n",
              "<style scoped>\n",
              "    .dataframe tbody tr th:only-of-type {\n",
              "        vertical-align: middle;\n",
              "    }\n",
              "\n",
              "    .dataframe tbody tr th {\n",
              "        vertical-align: top;\n",
              "    }\n",
              "\n",
              "    .dataframe thead th {\n",
              "        text-align: right;\n",
              "    }\n",
              "</style>\n",
              "<table border=\"1\" class=\"dataframe\">\n",
              "  <thead>\n",
              "    <tr style=\"text-align: right;\">\n",
              "      <th></th>\n",
              "      <th>Mar Português</th>\n",
              "      <th>Amar</th>\n",
              "    </tr>\n",
              "  </thead>\n",
              "  <tbody>\n",
              "    <tr>\n",
              "      <th>Mar Português</th>\n",
              "      <td>1.00000</td>\n",
              "      <td>0.10555</td>\n",
              "    </tr>\n",
              "    <tr>\n",
              "      <th>Amar</th>\n",
              "      <td>0.10555</td>\n",
              "      <td>1.00000</td>\n",
              "    </tr>\n",
              "  </tbody>\n",
              "</table>\n",
              "</div>\n",
              "      <button class=\"colab-df-convert\" onclick=\"convertToInteractive('df-cf753876-9f64-41ab-86d0-f6edeb75d59e')\"\n",
              "              title=\"Convert this dataframe to an interactive table.\"\n",
              "              style=\"display:none;\">\n",
              "        \n",
              "  <svg xmlns=\"http://www.w3.org/2000/svg\" height=\"24px\"viewBox=\"0 0 24 24\"\n",
              "       width=\"24px\">\n",
              "    <path d=\"M0 0h24v24H0V0z\" fill=\"none\"/>\n",
              "    <path d=\"M18.56 5.44l.94 2.06.94-2.06 2.06-.94-2.06-.94-.94-2.06-.94 2.06-2.06.94zm-11 1L8.5 8.5l.94-2.06 2.06-.94-2.06-.94L8.5 2.5l-.94 2.06-2.06.94zm10 10l.94 2.06.94-2.06 2.06-.94-2.06-.94-.94-2.06-.94 2.06-2.06.94z\"/><path d=\"M17.41 7.96l-1.37-1.37c-.4-.4-.92-.59-1.43-.59-.52 0-1.04.2-1.43.59L10.3 9.45l-7.72 7.72c-.78.78-.78 2.05 0 2.83L4 21.41c.39.39.9.59 1.41.59.51 0 1.02-.2 1.41-.59l7.78-7.78 2.81-2.81c.8-.78.8-2.07 0-2.86zM5.41 20L4 18.59l7.72-7.72 1.47 1.35L5.41 20z\"/>\n",
              "  </svg>\n",
              "      </button>\n",
              "      \n",
              "  <style>\n",
              "    .colab-df-container {\n",
              "      display:flex;\n",
              "      flex-wrap:wrap;\n",
              "      gap: 12px;\n",
              "    }\n",
              "\n",
              "    .colab-df-convert {\n",
              "      background-color: #E8F0FE;\n",
              "      border: none;\n",
              "      border-radius: 50%;\n",
              "      cursor: pointer;\n",
              "      display: none;\n",
              "      fill: #1967D2;\n",
              "      height: 32px;\n",
              "      padding: 0 0 0 0;\n",
              "      width: 32px;\n",
              "    }\n",
              "\n",
              "    .colab-df-convert:hover {\n",
              "      background-color: #E2EBFA;\n",
              "      box-shadow: 0px 1px 2px rgba(60, 64, 67, 0.3), 0px 1px 3px 1px rgba(60, 64, 67, 0.15);\n",
              "      fill: #174EA6;\n",
              "    }\n",
              "\n",
              "    [theme=dark] .colab-df-convert {\n",
              "      background-color: #3B4455;\n",
              "      fill: #D2E3FC;\n",
              "    }\n",
              "\n",
              "    [theme=dark] .colab-df-convert:hover {\n",
              "      background-color: #434B5C;\n",
              "      box-shadow: 0px 1px 3px 1px rgba(0, 0, 0, 0.15);\n",
              "      filter: drop-shadow(0px 1px 2px rgba(0, 0, 0, 0.3));\n",
              "      fill: #FFFFFF;\n",
              "    }\n",
              "  </style>\n",
              "\n",
              "      <script>\n",
              "        const buttonEl =\n",
              "          document.querySelector('#df-cf753876-9f64-41ab-86d0-f6edeb75d59e button.colab-df-convert');\n",
              "        buttonEl.style.display =\n",
              "          google.colab.kernel.accessAllowed ? 'block' : 'none';\n",
              "\n",
              "        async function convertToInteractive(key) {\n",
              "          const element = document.querySelector('#df-cf753876-9f64-41ab-86d0-f6edeb75d59e');\n",
              "          const dataTable =\n",
              "            await google.colab.kernel.invokeFunction('convertToInteractive',\n",
              "                                                     [key], {});\n",
              "          if (!dataTable) return;\n",
              "\n",
              "          const docLinkHtml = 'Like what you see? Visit the ' +\n",
              "            '<a target=\"_blank\" href=https://colab.research.google.com/notebooks/data_table.ipynb>data table notebook</a>'\n",
              "            + ' to learn more about interactive tables.';\n",
              "          element.innerHTML = '';\n",
              "          dataTable['output_type'] = 'display_data';\n",
              "          await google.colab.output.renderOutput(dataTable, element);\n",
              "          const docLink = document.createElement('div');\n",
              "          docLink.innerHTML = docLinkHtml;\n",
              "          element.appendChild(docLink);\n",
              "        }\n",
              "      </script>\n",
              "    </div>\n",
              "  </div>\n",
              "  "
            ]
          },
          "metadata": {},
          "execution_count": 49
        }
      ]
    },
    {
      "cell_type": "markdown",
      "source": [
        "A similaridade entre os poemas é de 10,56%. A diferença no valor do cosseno se dá pela penalização empregada nas palavras mais recorrentes."
      ],
      "metadata": {
        "id": "KXYPqPQ16suG"
      }
    }
  ]
}
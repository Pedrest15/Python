{
  "nbformat": 4,
  "nbformat_minor": 0,
  "metadata": {
    "colab": {
      "provenance": [],
      "include_colab_link": true
    },
    "kernelspec": {
      "name": "python3",
      "display_name": "Python 3"
    },
    "language_info": {
      "name": "python"
    }
  },
  "cells": [
    {
      "cell_type": "markdown",
      "metadata": {
        "id": "view-in-github",
        "colab_type": "text"
      },
      "source": [
        "<a href=\"https://colab.research.google.com/github/Pedrest15/Python/blob/main/OtimizacaoMisturas.ipynb\" target=\"_parent\"><img src=\"https://colab.research.google.com/assets/colab-badge.svg\" alt=\"Open In Colab\"/></a>"
      ]
    },
    {
      "cell_type": "markdown",
      "source": [
        "### Descrição do Problema"
      ],
      "metadata": {
        "id": "7hS6ttXAZLAV"
      }
    },
    {
      "cell_type": "markdown",
      "source": [
        "**Problema de correção de mistura**\n",
        "\n",
        "Joãozinho trabalha na fabricação de remédio para gripe. Mais especificamente, ele trabalha na parte de inspeção: antes da mistura ser transformada em comprimidos, Joãozinho precisa corrigir, se necessário, as quantidades de cada componente do remédio.\n",
        "\n",
        "Supondo que o remédio tenha 3 componentes: dipirona, maleato de clorfeniramina e cafeína. Joãozinho acaba de receber uma quantidade de 1kg de mistura e consta que nela há 30% de dipirona, 10% de maleato de clorfeniramina e 20% de cafeína. Entretanto, as as porcentagens deveriam ser de 33% a 47% de dipirona, 15% a 28% de maleato de clorfeniramina e 11% a 50% de cafeína.\n",
        "\n",
        "Normalmente, Joãozinho adicionaria os componentes puros e solução neutra (matéria para reduzir a concentração dos componentes) até balancear a mistura, mas por um descuído da empresa se esgotaram os estoques deles. Para piorar, a empresa precisa entregar os remédios até o fim do dia, caso contrário será multada.\n",
        "\n",
        "Porém, como Joãozinho é experiente nesse ramo, ele teve a seguinte ideia: além da mistura que acabou de receber, ele também possuía 3 outras misturas defeituosas cujas composições e quantidades disponíveis são:\n",
        "\n",
        "* Mistura 1: 50% de dipirona, 40% de maleato de clorfeniramina e 10% de cafeína. Quantia = 1,7 kg.\n",
        "* Mistura 2: 10% de dipirona, 40% de maleato de clorfeniramina e 50% de cafeína. Quantia = 1,5 kg.\n",
        "* Mistura 3: 70% de dipirona, 20% de maleato de clorfeniramina e 10% de cafeína. Quantia = 1,3 kg.\n",
        "\n",
        "Então ele pensou em adicionar essas outras misturas na que acabou de receber para balancear os componentes. Seu objetivo é obter a maior quantidade de mistura com a porcentagem correta dos componentes. Crie um modelo de otimização LINEAR que resolva esse problema (ou seja, maximize o uso das misturas).\n",
        "\n",
        "OBS: Na função objetivo do modelo, não adicione a quantia inicial de mistura.\n",
        "\n"
      ],
      "metadata": {
        "id": "xmX40oChHaPR"
      }
    },
    {
      "cell_type": "markdown",
      "source": [
        "### Resolução"
      ],
      "metadata": {
        "id": "YHTZ2Ok8ZSo6"
      }
    },
    {
      "cell_type": "code",
      "execution_count": 1,
      "metadata": {
        "id": "dR_dlw0vHWhf",
        "colab": {
          "base_uri": "https://localhost:8080/"
        },
        "outputId": "bd7bc9e3-4407-4122-d39e-6771bbca5a4b"
      },
      "outputs": [
        {
          "output_type": "stream",
          "name": "stdout",
          "text": [
            "Looking in indexes: https://pypi.gurobi.com, https://us-python.pkg.dev/colab-wheels/public/simple/\n",
            "Collecting gurobipy\n",
            "  Downloading gurobipy-10.0.1-cp39-cp39-manylinux2014_x86_64.whl (12.8 MB)\n",
            "\u001b[2K     \u001b[90m━━━━━━━━━━━━━━━━━━━━━━━━━━━━━━━━━━━━━━━━\u001b[0m \u001b[32m12.8/12.8 MB\u001b[0m \u001b[31m41.6 MB/s\u001b[0m eta \u001b[36m0:00:00\u001b[0m\n",
            "\u001b[?25hInstalling collected packages: gurobipy\n",
            "Successfully installed gurobipy-10.0.1\n"
          ]
        }
      ],
      "source": [
        "#importando biblioteca do modelo\n",
        "%pip install -i https://pypi.gurobi.com gurobipy\n",
        "import gurobipy as gp\n",
        "from gurobipy import GRB"
      ]
    },
    {
      "cell_type": "code",
      "source": [
        "#criando modelo\n",
        "model = gp.Model(\"Misturas\")\n",
        "\n",
        "#instanciando as variaveis\n",
        "x1 = model.addVar(vtype=GRB.CONTINUOUS, lb=0, ub=1.7, name=\"Mistura1\")\n",
        "x2 = model.addVar(vtype=GRB.CONTINUOUS, lb=0, ub=1.5, name=\"Mistura2\")\n",
        "x3 = model.addVar(vtype=GRB.CONTINUOUS, lb=0, ub=1.3, name=\"Mistura3\")\n",
        "\n",
        "#definindo a funcao objetivo\n",
        "model.setObjective(x1 + x2 + x3, GRB.MAXIMIZE)\n",
        "\n",
        "#definindo as restricoes do problema\n",
        "model.addConstr(0.5*x1 + 0.1*x2 + 0.7*x3 + 0.3 <= 0.47*(x1+x2+x3+1), name=\"Max_dipirona\")\n",
        "\n",
        "model.addConstr(0.5*x1 + 0.1*x2 + 0.7*x3 + 0.3 >= 0.33*(x1+x2+x3+1), name=\"Min_dipirona\")\n",
        "\n",
        "model.addConstr(0.4*x1 + 0.4*x2 + 0.2*x3 + 0.1 <= 0.28*(x1+x2+x3+1), name=\"Max_cloro\")\n",
        "\n",
        "model.addConstr(0.4*x1 + 0.4*x2 + 0.2*x3 + 0.1 >= 0.15*(x1+x2+x3+1), name=\"Min_cloro\")\n",
        "\n",
        "model.addConstr(0.1*x1 + 0.5*x2 + 0.1*x3 + 0.2 <= 0.5*(x1+x2+x3+1), name=\"Max_cafeina\")\n",
        "\n",
        "model.addConstr(0.1*x1 + 0.5*x2 + 0.1*x3 + 0.2 >= 0.11*(x1+x2+x3+1), name=\"Min_cafeina\")\n",
        "\n",
        "model.optimize()"
      ],
      "metadata": {
        "id": "zRCJ2kw2iFeZ",
        "colab": {
          "base_uri": "https://localhost:8080/"
        },
        "outputId": "27a0f6fa-3d13-4086-c370-9d67352e5310"
      },
      "execution_count": 4,
      "outputs": [
        {
          "output_type": "stream",
          "name": "stdout",
          "text": [
            "Gurobi Optimizer version 10.0.1 build v10.0.1rc0 (linux64)\n",
            "\n",
            "CPU model: Intel(R) Xeon(R) CPU @ 2.20GHz, instruction set [SSE2|AVX|AVX2]\n",
            "Thread count: 1 physical cores, 2 logical processors, using up to 2 threads\n",
            "\n",
            "Optimize a model with 6 rows, 3 columns and 17 nonzeros\n",
            "Model fingerprint: 0x20ef0b90\n",
            "Coefficient statistics:\n",
            "  Matrix range     [1e-02, 4e-01]\n",
            "  Objective range  [1e+00, 1e+00]\n",
            "  Bounds range     [1e+00, 2e+00]\n",
            "  RHS range        [3e-02, 3e-01]\n",
            "Presolve removed 2 rows and 0 columns\n",
            "Presolve time: 0.01s\n",
            "Presolved: 4 rows, 3 columns, 12 nonzeros\n",
            "\n",
            "Iteration    Objective       Primal Inf.    Dual Inf.      Time\n",
            "       0    3.6666667e+00   1.066667e+00   0.000000e+00      0s\n",
            "       1    3.6666667e+00   0.000000e+00   0.000000e+00      0s\n",
            "\n",
            "Solved in 1 iterations and 0.02 seconds (0.00 work units)\n",
            "Optimal objective  3.666666667e+00\n"
          ]
        }
      ]
    },
    {
      "cell_type": "code",
      "source": [
        "print(\"Função Objetivo: \"+str(model.objVal))\n",
        "\n",
        "print(\"Qnt da Mistura 1: \"+str(x1.X))\n",
        "print(\"Qnt da Mistura 2: \"+str(x2.X))\n",
        "print(\"Qnt da Mistura 3: \"+str(x3.X))"
      ],
      "metadata": {
        "colab": {
          "base_uri": "https://localhost:8080/"
        },
        "id": "ECbpA_OO3TrJ",
        "outputId": "83291ee3-6080-4723-f5ca-ac774c90f60c"
      },
      "execution_count": 6,
      "outputs": [
        {
          "output_type": "stream",
          "name": "stdout",
          "text": [
            "Função Objetivo: 3.666666666666667\n",
            "Qnt da Mistura 1: 1.7\n",
            "Qnt da Mistura 2: 0.6666666666666672\n",
            "Qnt da Mistura 3: 1.3\n"
          ]
        }
      ]
    },
    {
      "cell_type": "markdown",
      "source": [
        "Considerando agora uma proporção de no mínimo 3/2 entre as misturas 1 e 2, e 1/2 entre as misturas 1 e 3, reformule o modelo."
      ],
      "metadata": {
        "id": "y26TIC0daZKf"
      }
    },
    {
      "cell_type": "code",
      "source": [
        "#criando modelo\n",
        "model2 = gp.Model(\"Misturas2\")\n",
        "\n",
        "x1 = model2.addVar(vtype=GRB.CONTINUOUS, lb=0, ub=1.7, name=\"Mistura1\")\n",
        "x2 = model2.addVar(vtype=GRB.CONTINUOUS, lb=0, ub=1.5, name=\"Mistura2\")\n",
        "x3 = model2.addVar(vtype=GRB.CONTINUOUS, lb=0, ub=1.3, name=\"Mistura3\")\n",
        "\n",
        "model2.setObjective(x1 + x2 + x3, GRB.MAXIMIZE)\n",
        "\n",
        "model2.addConstr(0.5*x1 + 0.1*x2 + 0.7*x3 + 0.3 <= 0.47*(x1+x2+x3+1), name=\"Max_dipirona\")\n",
        "\n",
        "model2.addConstr(0.5*x1 + 0.1*x2 + 0.7*x3 + 0.3 >= 0.33*(x1+x2+x3+1), name=\"Min_dipirona\")\n",
        "\n",
        "model2.addConstr(0.4*x1 + 0.4*x2 + 0.2*x3 + 0.1 <= 0.28*(x1+x2+x3+1), name=\"Max_cloro\")\n",
        "\n",
        "model2.addConstr(0.4*x1 + 0.4*x2 + 0.2*x3 + 0.1 >= 0.15*(x1+x2+x3+1), name=\"Min_cloro\")\n",
        "\n",
        "model2.addConstr(0.1*x1 + 0.5*x2 + 0.1*x3 + 0.2 <= 0.5*(x1+x2+x3+1), name=\"Max_cafeina\")\n",
        "\n",
        "model2.addConstr(0.1*x1 + 0.5*x2 + 0.1*x3 + 0.2 >= 0.11*(x1+x2+x3+1), name=\"Min_cafeina\")\n",
        "\n",
        "model2.addConstr(x2 >= (2/3) * x1, name=\"qnt21\")\n",
        "model2.addConstr(x3 >= (2) * x1, name=\"qnt31\")\n",
        "\n",
        "model2.optimize()"
      ],
      "metadata": {
        "colab": {
          "base_uri": "https://localhost:8080/"
        },
        "id": "3CMFvl8F60kP",
        "outputId": "9142cc7f-dec6-4e43-96d8-ef7ca1787cb2"
      },
      "execution_count": 16,
      "outputs": [
        {
          "output_type": "stream",
          "name": "stdout",
          "text": [
            "Gurobi Optimizer version 10.0.1 build v10.0.1rc0 (linux64)\n",
            "\n",
            "CPU model: Intel(R) Xeon(R) CPU @ 2.20GHz, instruction set [SSE2|AVX|AVX2]\n",
            "Thread count: 1 physical cores, 2 logical processors, using up to 2 threads\n",
            "\n",
            "Optimize a model with 8 rows, 3 columns and 21 nonzeros\n",
            "Model fingerprint: 0xd6c22e38\n",
            "Coefficient statistics:\n",
            "  Matrix range     [1e-02, 2e+00]\n",
            "  Objective range  [1e+00, 1e+00]\n",
            "  Bounds range     [1e+00, 2e+00]\n",
            "  RHS range        [3e-02, 3e-01]\n",
            "Presolve removed 2 rows and 0 columns\n",
            "Presolve time: 0.01s\n",
            "Presolved: 6 rows, 3 columns, 16 nonzeros\n",
            "\n",
            "Iteration    Objective       Primal Inf.    Dual Inf.      Time\n",
            "       0    3.4500000e+00   0.000000e+00   0.000000e+00      0s\n",
            "       0    3.4500000e+00   0.000000e+00   0.000000e+00      0s\n",
            "\n",
            "Solved in 0 iterations and 0.02 seconds (0.00 work units)\n",
            "Optimal objective  3.450000000e+00\n"
          ]
        }
      ]
    },
    {
      "cell_type": "code",
      "source": [
        "print(\"Função Objetivo: \"+str(model2.objVal))\n",
        "\n",
        "print(\"Qnt da Mistura 1: \"+str(x1.X))\n",
        "print(\"Qnt da Mistura 2: \"+str(x2.X))\n",
        "print(\"Qnt da Mistura 3: \"+str(x3.X))"
      ],
      "metadata": {
        "colab": {
          "base_uri": "https://localhost:8080/"
        },
        "id": "48QXm0gN-Gr-",
        "outputId": "930cc610-110a-4762-bf21-411f26f59d6e"
      },
      "execution_count": 18,
      "outputs": [
        {
          "output_type": "stream",
          "name": "stdout",
          "text": [
            "Função Objetivo: 3.45\n",
            "Qnt da Mistura 1: 0.65\n",
            "Qnt da Mistura 2: 1.5\n",
            "Qnt da Mistura 3: 1.3\n"
          ]
        }
      ]
    }
  ]
}